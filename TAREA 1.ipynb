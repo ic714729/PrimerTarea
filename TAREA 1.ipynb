{
 "cells": [
  {
   "cell_type": "markdown",
   "metadata": {},
   "source": [
    "#### Actividad.\n",
    "Mónica hace aretes y cadenitas de joyería. Es tan buena, que todo lo que hace lo vende.\n",
    "\n",
    "Le toma 30 minutos hacer un par de aretes y una hora hacer una cadenita, y como Mónica también es estudihambre, solo dispone de 10 horas a la semana para hacer las joyas. Por otra parte, el material que compra solo le alcanza para hacer 15 unidades (el par de aretes cuenta como unidad) de joyas por semana.\n",
    "\n",
    "La utilidad que le deja la venta de las joyas es $15$ en cada par de aretes y $20$ en cada cadenita.\n",
    "\n",
    "¿Cuántos pares de aretes y cuántas cadenitas debería hacer Mónica para maximizar su utilidad?"
   ]
  },
  {
   "cell_type": "markdown",
   "metadata": {},
   "source": [
    "#### Solución\n",
    "$x_1$ es la cantidad de aretes y $x_2$ es la cantidad de cadenitas. Se quiere maximizar $x_1 + x_2$."
   ]
  },
  {
   "cell_type": "markdown",
   "metadata": {},
   "source": [
    "Cuántas horas consume Mónica haciendo las joyas sin pasar de 10 horas:\n",
    "$$0.5x_1 + x_2 \\leq 10$$\n",
    "Cuántas unidades usa para producir los dos tipos de joyas sin pasar de 15 unidades:\n",
    "$$x_1 + x_2 \\leq 15$$"
   ]
  },
  {
   "cell_type": "code",
   "execution_count": 1,
   "metadata": {},
   "outputs": [
    {
     "name": "stdout",
     "output_type": "stream",
     "text": [
      "Optimization terminated successfully.\n",
      "         Current function value: -250.000000 \n",
      "         Iterations: 2\n"
     ]
    },
    {
     "data": {
      "text/plain": [
       "     fun: -250.0\n",
       " message: 'Optimization terminated successfully.'\n",
       "     nit: 2\n",
       "   slack: array([0., 0.])\n",
       "  status: 0\n",
       " success: True\n",
       "       x: array([10.,  5.])"
      ]
     },
     "execution_count": 1,
     "metadata": {},
     "output_type": "execute_result"
    }
   ],
   "source": [
    "import numpy as np\n",
    "import scipy.optimize as opt\n",
    "\n",
    "#Se encuentra el máximo. Se pone el valor de la utilidad de cada tipo de joya.\n",
    "c = np.array([-15, -20])\n",
    "\n",
    "#Coeficientes de las variables\n",
    "A = np.array([[0.5, 1], [1, 1]])\n",
    "#Resultados de las ecuaciones\n",
    "b = np.array([10, 15])\n",
    "\n",
    "#Restricción de las ecuaciones (sólo no pueden ser negativos)\n",
    "x1_bound = (0, None)\n",
    "#Restricción de ecuación 4\n",
    "x2_bound = (0, None)\n",
    "\n",
    "#Función para solucionar\n",
    "res = opt.linprog(c, A_ub=A, b_ub=b, bounds=(x1_bound, x2_bound), options={'disp':True})\n",
    "\n",
    "#Mostrar resultado\n",
    "res"
   ]
  },
  {
   "cell_type": "markdown",
   "metadata": {},
   "source": [
    "La producción se maximiza produciendo 10 pares de aretes y 5 cadenitas, y lo máximo que puede ganar es 250 pesos a la semana."
   ]
  },
  {
   "cell_type": "code",
   "execution_count": 16,
   "metadata": {},
   "outputs": [
    {
     "data": {
      "image/png": "[encoded data removed]",
      "text/plain": [
       "<Figure size 432x288 with 1 Axes>"
      ]
     },
     "metadata": {},
     "output_type": "display_data"
    }
   ],
   "source": [
    "import matplotlib.pyplot as plt\n",
    "%matplotlib inline\n",
    "import numpy as np\n",
    "\n",
    "#Ecuación 1 (horas de trabajo)\n",
    "def x2_v1(x1):\n",
    "    return 10 - 0.5 * x1\n",
    "#Ecuación 2 (cantidad de material)\n",
    "def x2_v2(x1):\n",
    "    return 15 - x1\n",
    "\n",
    "x1 = np.linspace(0, 100)\n",
    "plt.plot(x1, x2_v1(x1), 'magenta')\n",
    "plt.plot(x1, x2_v2(x1), 'blue')\n",
    "\n",
    "plt.xlabel(r\"$x_1$\", fontsize = 18)\n",
    "plt.ylabel(r\"$x_2$\", fontsize = 18)\n",
    "\n",
    "plt.xlim(xmin = -1, xmax = 20)\n",
    "plt.ylim(ymin = -1, ymax = 20)\n",
    "\n",
    "plt.plot([0, 0], [20, 0], color='k')\n",
    "plt.plot([0, 20], [0, 0], color='k')\n",
    "\n",
    "plt.scatter([0, 0, 10, 15], [0, 10, 5, 0], s=200, color = \"red\");"
   ]
  },
  {
   "cell_type": "code",
   "execution_count": null,
   "metadata": {},
   "outputs": [],
   "source": []
  }
 ],
 "metadata": {
  "kernelspec": {
   "display_name": "Python 3",
   "language": "python",
   "name": "python3"
  },
  "language_info": {
   "codemirror_mode": {
    "name": "ipython",
    "version": 3
   },
   "file_extension": ".py",
   "mimetype": "text/x-python",
   "name": "python",
   "nbconvert_exporter": "python",
   "pygments_lexer": "ipython3",
   "version": "3.6.5"
  }
 },
 "nbformat": 4,
 "nbformat_minor": 2
}
